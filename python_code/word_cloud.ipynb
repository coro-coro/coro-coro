{
  "nbformat": 4,
  "nbformat_minor": 0,
  "metadata": {
    "colab": {
      "name": "워드클라우드.ipynb",
      "provenance": [],
      "collapsed_sections": []
    },
    "kernelspec": {
      "name": "python3",
      "display_name": "Python 3"
    }
  },
  "cells": [
    {
      "cell_type": "code",
      "metadata": {
        "id": "9Vp0Idpigt7F",
        "colab_type": "code",
        "outputId": "a4052680-13b3-4919-ec96-069980ae2c26",
        "colab": {
          "base_uri": "https://localhost:8080/",
          "height": 125
        }
      },
      "source": [
        "from google.colab import drive\n",
        "drive.mount('/content/drive')"
      ],
      "execution_count": 0,
      "outputs": [
        {
          "output_type": "stream",
          "text": [
            "Go to this URL in a browser: https://accounts.google.com/o/oauth2/auth?client_id=947318989803-6bn6qk8qdgf4n4g3pfee6491hc0brc4i.apps.googleusercontent.com&redirect_uri=urn%3aietf%3awg%3aoauth%3a2.0%3aoob&response_type=code&scope=email%20https%3a%2f%2fwww.googleapis.com%2fauth%2fdocs.test%20https%3a%2f%2fwww.googleapis.com%2fauth%2fdrive%20https%3a%2f%2fwww.googleapis.com%2fauth%2fdrive.photos.readonly%20https%3a%2f%2fwww.googleapis.com%2fauth%2fpeopleapi.readonly\n",
            "\n",
            "Enter your authorization code:\n",
            "··········\n",
            "Mounted at /content/drive\n"
          ],
          "name": "stdout"
        }
      ]
    },
    {
      "cell_type": "code",
      "metadata": {
        "id": "fpWd33_pg1Mn",
        "colab_type": "code",
        "outputId": "dfe4cd4e-3909-4508-96c3-339231fb1c31",
        "colab": {
          "base_uri": "https://localhost:8080/",
          "height": 34
        }
      },
      "source": [
        "%cd /content/drive/My Drive"
      ],
      "execution_count": 0,
      "outputs": [
        {
          "output_type": "stream",
          "text": [
            "/content/drive/My Drive/data\n"
          ],
          "name": "stdout"
        }
      ]
    },
    {
      "cell_type": "code",
      "metadata": {
        "id": "DJ1hLnMzg2l0",
        "colab_type": "code",
        "colab": {}
      },
      "source": [
        "import pandas as pd\n",
        "import numpy as np\n",
        "import matplotlib.pyplot as plt"
      ],
      "execution_count": 0,
      "outputs": []
    },
    {
      "cell_type": "code",
      "metadata": {
        "id": "7ym5Pfw7IFD9",
        "colab_type": "code",
        "colab": {}
      },
      "source": [
        "pd.set_option('display.max_rows', 500)"
      ],
      "execution_count": 0,
      "outputs": []
    },
    {
      "cell_type": "code",
      "metadata": {
        "id": "twwMoN18YQNp",
        "colab_type": "code",
        "colab": {}
      },
      "source": [
        "plt.rcParams['font.family'] = 'NanumBarunGothic.ttf'"
      ],
      "execution_count": 0,
      "outputs": []
    },
    {
      "cell_type": "code",
      "metadata": {
        "id": "tyKUKgPPhGcl",
        "colab_type": "code",
        "colab": {}
      },
      "source": [
        "data1 = pd.read_csv(\"sample_twitter_data_2020-01-18_to_2020-01-24.csv\" )\n",
        "data2 = pd.read_csv(\"sample_twitter_data_2020-01-25_to_2020-01-25.csv\")\n",
        "data3 = pd.read_csv(\"sample_twitter_data_2020-01-26_to_2020-01-29.csv\")\n",
        "data4 = pd.read_csv(\"sample_twitter_data_2020-01-30_to_2020-01-31.csv\")\n",
        "data5 = pd.read_csv(\"sample_twitter_data_2020-02-01_to_2020-02-02.csv\")\n",
        "data6 = pd.read_csv(\"sample_twitter_data_2020-02-03_to_2020-02-04.csv\")\n",
        "data7 = pd.read_csv(\"sample_twitter_data_2020-02-05_to_2020-02-05.csv\")\n",
        "data8 = pd.read_csv(\"sample_twitter_data_2020-02-06_to_2020-02-06.csv\")\n",
        "data9 = pd.read_csv(\"sample_twitter_data_2020-02-07_to_2020-02-08.csv\")\n",
        "data10 = pd.read_csv(\"sample_twitter_data_2020-02-09_to_2020-02-09.csv\")\n",
        "patients = pd.read_csv(\"patient_data.csv\", encoding = 'euc-kr')"
      ],
      "execution_count": 0,
      "outputs": []
    },
    {
      "cell_type": "code",
      "metadata": {
        "id": "B3EAl-zYFw1u",
        "colab_type": "code",
        "outputId": "25ff45e0-5a93-4236-d60d-509afa2a34c6",
        "colab": {
          "base_uri": "https://localhost:8080/",
          "height": 437
        }
      },
      "source": [
        "data10.head()"
      ],
      "execution_count": 0,
      "outputs": [
        {
          "output_type": "execute_result",
          "data": {
            "text/html": [
              "<div>\n",
              "<style scoped>\n",
              "    .dataframe tbody tr th:only-of-type {\n",
              "        vertical-align: middle;\n",
              "    }\n",
              "\n",
              "    .dataframe tbody tr th {\n",
              "        vertical-align: top;\n",
              "    }\n",
              "\n",
              "    .dataframe thead th {\n",
              "        text-align: right;\n",
              "    }\n",
              "</style>\n",
              "<table border=\"1\" class=\"dataframe\">\n",
              "  <thead>\n",
              "    <tr style=\"text-align: right;\">\n",
              "      <th></th>\n",
              "      <th>date</th>\n",
              "      <th>time</th>\n",
              "      <th>user_name</th>\n",
              "      <th>text</th>\n",
              "      <th>link</th>\n",
              "      <th>retweet_counts</th>\n",
              "      <th>favorite_counts</th>\n",
              "    </tr>\n",
              "  </thead>\n",
              "  <tbody>\n",
              "    <tr>\n",
              "      <th>0</th>\n",
              "      <td>2020-02-09</td>\n",
              "      <td>15:22:32</td>\n",
              "      <td>carry11211</td>\n",
              "      <td>문재인과 하는 짓이 똑같다 똑같애 \"사라진 시진핑… 신종 코로나 책임론 피해 공개 ...</td>\n",
              "      <td>https://twitter.com/carry11211/status/12265268...</td>\n",
              "      <td>0</td>\n",
              "      <td>0</td>\n",
              "    </tr>\n",
              "    <tr>\n",
              "      <th>1</th>\n",
              "      <td>2020-02-09</td>\n",
              "      <td>15:22:10</td>\n",
              "      <td>SNSNEWSONE</td>\n",
              "      <td>25번 확진자 아들과 며느리까지 ㅎㄷㄷ (속보)신종 코로나 확진자 27명...2명 ...</td>\n",
              "      <td>https://twitter.com/SNSNEWSONE/status/12265267...</td>\n",
              "      <td>0</td>\n",
              "      <td>0</td>\n",
              "    </tr>\n",
              "    <tr>\n",
              "      <th>2</th>\n",
              "      <td>2020-02-09</td>\n",
              "      <td>15:20:50</td>\n",
              "      <td>forum1004</td>\n",
              "      <td>#신종_코로나 질환, 독감과 비슷?…전문가 “국내 환자 거의 치료 가능 수준” 이라...</td>\n",
              "      <td>https://twitter.com/forum1004/status/122652637...</td>\n",
              "      <td>0</td>\n",
              "      <td>1</td>\n",
              "    </tr>\n",
              "    <tr>\n",
              "      <th>3</th>\n",
              "      <td>2020-02-09</td>\n",
              "      <td>15:17:08</td>\n",
              "      <td>JXJXNHX</td>\n",
              "      <td>신종코로나 개색기야 닥터베베 사녹을 뺏어갔다고 ? 개넘임 아주 ㅡㅡ</td>\n",
              "      <td>https://twitter.com/JXJXNHX/status/12265254448...</td>\n",
              "      <td>0</td>\n",
              "      <td>0</td>\n",
              "    </tr>\n",
              "    <tr>\n",
              "      <th>4</th>\n",
              "      <td>2020-02-09</td>\n",
              "      <td>15:16:56</td>\n",
              "      <td>BOODAECCIGAE</td>\n",
              "      <td>여기서 이런말하기 싫은데 문재인 개새끼야 중국이랑 고통을 같이 나누자고? 그런놈이 ...</td>\n",
              "      <td>https://twitter.com/BOODAECCIGAE/status/122652...</td>\n",
              "      <td>0</td>\n",
              "      <td>0</td>\n",
              "    </tr>\n",
              "  </tbody>\n",
              "</table>\n",
              "</div>"
            ],
            "text/plain": [
              "         date      time  ... retweet_counts favorite_counts\n",
              "0  2020-02-09  15:22:32  ...              0               0\n",
              "1  2020-02-09  15:22:10  ...              0               0\n",
              "2  2020-02-09  15:20:50  ...              0               1\n",
              "3  2020-02-09  15:17:08  ...              0               0\n",
              "4  2020-02-09  15:16:56  ...              0               0\n",
              "\n",
              "[5 rows x 7 columns]"
            ]
          },
          "metadata": {
            "tags": []
          },
          "execution_count": 8
        }
      ]
    },
    {
      "cell_type": "code",
      "metadata": {
        "id": "YjxKGDL9k-HN",
        "colab_type": "code",
        "colab": {}
      },
      "source": [
        "mer_data = pd.concat([data1, data2, data3, data4, data5, data6, data7, data8, data9, data10])"
      ],
      "execution_count": 0,
      "outputs": []
    },
    {
      "cell_type": "code",
      "metadata": {
        "id": "hbNpvSzTXcXN",
        "colab_type": "code",
        "colab": {}
      },
      "source": [
        "mer_data = mer_data.sort_values(by='date')"
      ],
      "execution_count": 0,
      "outputs": []
    },
    {
      "cell_type": "code",
      "metadata": {
        "id": "OcbNC6nfgSyD",
        "colab_type": "code",
        "outputId": "a5addf5c-bcb5-4757-d4c6-301d7796eb66",
        "colab": {
          "base_uri": "https://localhost:8080/",
          "height": 386
        }
      },
      "source": [
        "mer_data.head()"
      ],
      "execution_count": 0,
      "outputs": [
        {
          "output_type": "execute_result",
          "data": {
            "text/html": [
              "<div>\n",
              "<style scoped>\n",
              "    .dataframe tbody tr th:only-of-type {\n",
              "        vertical-align: middle;\n",
              "    }\n",
              "\n",
              "    .dataframe tbody tr th {\n",
              "        vertical-align: top;\n",
              "    }\n",
              "\n",
              "    .dataframe thead th {\n",
              "        text-align: right;\n",
              "    }\n",
              "</style>\n",
              "<table border=\"1\" class=\"dataframe\">\n",
              "  <thead>\n",
              "    <tr style=\"text-align: right;\">\n",
              "      <th></th>\n",
              "      <th>date</th>\n",
              "      <th>time</th>\n",
              "      <th>user_name</th>\n",
              "      <th>text</th>\n",
              "      <th>link</th>\n",
              "      <th>retweet_counts</th>\n",
              "      <th>favorite_counts</th>\n",
              "    </tr>\n",
              "  </thead>\n",
              "  <tbody>\n",
              "    <tr>\n",
              "      <th>6245</th>\n",
              "      <td>2020-01-18</td>\n",
              "      <td>17:34:59</td>\n",
              "      <td>nQ7URPdvCLFnCqm</td>\n",
              "      <td>한국연예인우한 폐렴 4명 추가 발생</td>\n",
              "      <td>https://twitter.com/nQ7URPdvCLFnCqm/status/121...</td>\n",
              "      <td>0</td>\n",
              "      <td>0</td>\n",
              "    </tr>\n",
              "    <tr>\n",
              "      <th>6261</th>\n",
              "      <td>2020-01-18</td>\n",
              "      <td>12:05:52</td>\n",
              "      <td>simpuson</td>\n",
              "      <td>중국 \"`우한 폐렴` 4명 추가 발생\" - 매일경제</td>\n",
              "      <td>https://twitter.com/simpuson/status/1218504777...</td>\n",
              "      <td>0</td>\n",
              "      <td>0</td>\n",
              "    </tr>\n",
              "    <tr>\n",
              "      <th>6260</th>\n",
              "      <td>2020-01-18</td>\n",
              "      <td>12:19:37</td>\n",
              "      <td>newview28340000</td>\n",
              "      <td>친절한 우한 폐렴이란 증상</td>\n",
              "      <td>https://twitter.com/newview28340000/status/121...</td>\n",
              "      <td>0</td>\n",
              "      <td>0</td>\n",
              "    </tr>\n",
              "    <tr>\n",
              "      <th>6259</th>\n",
              "      <td>2020-01-18</td>\n",
              "      <td>12:30:17</td>\n",
              "      <td>SBS8news</td>\n",
              "      <td>우한 폐렴 '45명 vs 1,723명'…전파 가능성 확대됐나 #SBS뉴스</td>\n",
              "      <td>https://twitter.com/SBS8news/status/1218510922...</td>\n",
              "      <td>668</td>\n",
              "      <td>648</td>\n",
              "    </tr>\n",
              "    <tr>\n",
              "      <th>6258</th>\n",
              "      <td>2020-01-18</td>\n",
              "      <td>12:37:54</td>\n",
              "      <td>ckatkfkd07</td>\n",
              "      <td>춘절 코앞인데…중국 우한 폐렴 확진자 45명으로 늘어</td>\n",
              "      <td>https://twitter.com/ckatkfkd07/status/12185128...</td>\n",
              "      <td>0</td>\n",
              "      <td>0</td>\n",
              "    </tr>\n",
              "  </tbody>\n",
              "</table>\n",
              "</div>"
            ],
            "text/plain": [
              "            date      time  ... retweet_counts favorite_counts\n",
              "6245  2020-01-18  17:34:59  ...              0               0\n",
              "6261  2020-01-18  12:05:52  ...              0               0\n",
              "6260  2020-01-18  12:19:37  ...              0               0\n",
              "6259  2020-01-18  12:30:17  ...            668             648\n",
              "6258  2020-01-18  12:37:54  ...              0               0\n",
              "\n",
              "[5 rows x 7 columns]"
            ]
          },
          "metadata": {
            "tags": []
          },
          "execution_count": 11
        }
      ]
    },
    {
      "cell_type": "code",
      "metadata": {
        "id": "h1ZC1x3OTe0u",
        "colab_type": "code",
        "outputId": "cefac1d7-b56b-42a3-8379-bc0b0219cd7b",
        "colab": {
          "base_uri": "https://localhost:8080/",
          "height": 420
        }
      },
      "source": [
        "mer_data.tail()"
      ],
      "execution_count": 0,
      "outputs": [
        {
          "output_type": "execute_result",
          "data": {
            "text/html": [
              "<div>\n",
              "<style scoped>\n",
              "    .dataframe tbody tr th:only-of-type {\n",
              "        vertical-align: middle;\n",
              "    }\n",
              "\n",
              "    .dataframe tbody tr th {\n",
              "        vertical-align: top;\n",
              "    }\n",
              "\n",
              "    .dataframe thead th {\n",
              "        text-align: right;\n",
              "    }\n",
              "</style>\n",
              "<table border=\"1\" class=\"dataframe\">\n",
              "  <thead>\n",
              "    <tr style=\"text-align: right;\">\n",
              "      <th></th>\n",
              "      <th>date</th>\n",
              "      <th>time</th>\n",
              "      <th>user_name</th>\n",
              "      <th>text</th>\n",
              "      <th>link</th>\n",
              "      <th>retweet_counts</th>\n",
              "      <th>favorite_counts</th>\n",
              "    </tr>\n",
              "  </thead>\n",
              "  <tbody>\n",
              "    <tr>\n",
              "      <th>892</th>\n",
              "      <td>2020-02-09</td>\n",
              "      <td>09:11:23</td>\n",
              "      <td>KBSnews</td>\n",
              "      <td>[KBS 뉴스특보 다시보기] ‘신종 코로나’ 추가 확진…국내 총 27명 유튜브에서 ...</td>\n",
              "      <td>https://twitter.com/KBSnews/status/12264334018...</td>\n",
              "      <td>5</td>\n",
              "      <td>4</td>\n",
              "    </tr>\n",
              "    <tr>\n",
              "      <th>893</th>\n",
              "      <td>2020-02-09</td>\n",
              "      <td>09:11:17</td>\n",
              "      <td>jangyoungnam2</td>\n",
              "      <td>외국인 치료에 혈세 '줄줄'.. 신종코로나 이후 건보료 불만 '부글부글' | 다음뉴스</td>\n",
              "      <td>https://twitter.com/jangyoungnam2/status/12264...</td>\n",
              "      <td>0</td>\n",
              "      <td>0</td>\n",
              "    </tr>\n",
              "    <tr>\n",
              "      <th>894</th>\n",
              "      <td>2020-02-09</td>\n",
              "      <td>09:10:50</td>\n",
              "      <td>scottsblackbox</td>\n",
              "      <td>[신종 코로나 바이러스] 최초보고 의사 리원량 사망을 추모합니다 https://sc...</td>\n",
              "      <td>https://twitter.com/scottsblackbox/status/1226...</td>\n",
              "      <td>0</td>\n",
              "      <td>1</td>\n",
              "    </tr>\n",
              "    <tr>\n",
              "      <th>896</th>\n",
              "      <td>2020-02-09</td>\n",
              "      <td>09:10:19</td>\n",
              "      <td>informationsea8</td>\n",
              "      <td>우한 폐렴 확진자 공포 신종 코로나 박쥐 육포 https://dailyfeed.kr...</td>\n",
              "      <td>https://twitter.com/informationsea8/status/122...</td>\n",
              "      <td>0</td>\n",
              "      <td>0</td>\n",
              "    </tr>\n",
              "    <tr>\n",
              "      <th>2675</th>\n",
              "      <td>2020-02-09</td>\n",
              "      <td>00:00:01</td>\n",
              "      <td>sns22001</td>\n",
              "      <td>진안군, 신종 코로나 바이러스 예방 ‘총력’ http://dlvr.it/RPg46C</td>\n",
              "      <td>https://twitter.com/sns22001/status/1226294644...</td>\n",
              "      <td>0</td>\n",
              "      <td>0</td>\n",
              "    </tr>\n",
              "  </tbody>\n",
              "</table>\n",
              "</div>"
            ],
            "text/plain": [
              "            date      time  ... retweet_counts favorite_counts\n",
              "892   2020-02-09  09:11:23  ...              5               4\n",
              "893   2020-02-09  09:11:17  ...              0               0\n",
              "894   2020-02-09  09:10:50  ...              0               1\n",
              "896   2020-02-09  09:10:19  ...              0               0\n",
              "2675  2020-02-09  00:00:01  ...              0               0\n",
              "\n",
              "[5 rows x 7 columns]"
            ]
          },
          "metadata": {
            "tags": []
          },
          "execution_count": 12
        }
      ]
    },
    {
      "cell_type": "code",
      "metadata": {
        "id": "_gdTBo3mTtHU",
        "colab_type": "code",
        "colab": {}
      },
      "source": [
        "mer_data_part = mer_data[['date', 'time', 'text']]"
      ],
      "execution_count": 0,
      "outputs": []
    },
    {
      "cell_type": "code",
      "metadata": {
        "id": "z2r-bSONdLaR",
        "colab_type": "code",
        "colab": {}
      },
      "source": [
        "mer_data_part = mer_data_part[mer_data_part.text.notnull()]"
      ],
      "execution_count": 0,
      "outputs": []
    },
    {
      "cell_type": "code",
      "metadata": {
        "id": "AjXuH3yjZfbh",
        "colab_type": "code",
        "outputId": "ad7c0d2c-7d3f-442f-f4d3-06f4f43c3922",
        "colab": {
          "base_uri": "https://localhost:8080/",
          "height": 34
        }
      },
      "source": [
        "!pip install konlp"
      ],
      "execution_count": 0,
      "outputs": [
        {
          "output_type": "stream",
          "text": [
            "Requirement already satisfied: konlp in /usr/local/lib/python3.6/dist-packages (0.0.8)\n"
          ],
          "name": "stdout"
        }
      ]
    },
    {
      "cell_type": "code",
      "metadata": {
        "id": "vt9JQMvPaXHs",
        "colab_type": "code",
        "outputId": "258a0ac7-43c3-4357-c451-9e5c7321f8e9",
        "colab": {
          "base_uri": "https://localhost:8080/",
          "height": 298
        }
      },
      "source": [
        "!pip install konlpy"
      ],
      "execution_count": 0,
      "outputs": [
        {
          "output_type": "stream",
          "text": [
            "Requirement already satisfied: konlpy in /usr/local/lib/python3.6/dist-packages (0.5.2)\n",
            "Requirement already satisfied: lxml>=4.1.0 in /usr/local/lib/python3.6/dist-packages (from konlpy) (4.2.6)\n",
            "Requirement already satisfied: colorama in /usr/local/lib/python3.6/dist-packages (from konlpy) (0.4.3)\n",
            "Requirement already satisfied: tweepy>=3.7.0 in /usr/local/lib/python3.6/dist-packages (from konlpy) (3.8.0)\n",
            "Requirement already satisfied: numpy>=1.6 in /usr/local/lib/python3.6/dist-packages (from konlpy) (1.17.5)\n",
            "Requirement already satisfied: beautifulsoup4==4.6.0 in /usr/local/lib/python3.6/dist-packages (from konlpy) (4.6.0)\n",
            "Requirement already satisfied: JPype1>=0.7.0 in /usr/local/lib/python3.6/dist-packages (from konlpy) (0.7.1)\n",
            "Requirement already satisfied: requests-oauthlib>=0.7.0 in /usr/local/lib/python3.6/dist-packages (from tweepy>=3.7.0->konlpy) (1.3.0)\n",
            "Requirement already satisfied: PySocks>=1.5.7 in /usr/local/lib/python3.6/dist-packages (from tweepy>=3.7.0->konlpy) (1.7.1)\n",
            "Requirement already satisfied: requests>=2.11.1 in /usr/local/lib/python3.6/dist-packages (from tweepy>=3.7.0->konlpy) (2.21.0)\n",
            "Requirement already satisfied: six>=1.10.0 in /usr/local/lib/python3.6/dist-packages (from tweepy>=3.7.0->konlpy) (1.12.0)\n",
            "Requirement already satisfied: oauthlib>=3.0.0 in /usr/local/lib/python3.6/dist-packages (from requests-oauthlib>=0.7.0->tweepy>=3.7.0->konlpy) (3.1.0)\n",
            "Requirement already satisfied: chardet<3.1.0,>=3.0.2 in /usr/local/lib/python3.6/dist-packages (from requests>=2.11.1->tweepy>=3.7.0->konlpy) (3.0.4)\n",
            "Requirement already satisfied: idna<2.9,>=2.5 in /usr/local/lib/python3.6/dist-packages (from requests>=2.11.1->tweepy>=3.7.0->konlpy) (2.8)\n",
            "Requirement already satisfied: urllib3<1.25,>=1.21.1 in /usr/local/lib/python3.6/dist-packages (from requests>=2.11.1->tweepy>=3.7.0->konlpy) (1.24.3)\n",
            "Requirement already satisfied: certifi>=2017.4.17 in /usr/local/lib/python3.6/dist-packages (from requests>=2.11.1->tweepy>=3.7.0->konlpy) (2019.11.28)\n"
          ],
          "name": "stdout"
        }
      ]
    },
    {
      "cell_type": "code",
      "metadata": {
        "id": "62TNVfR1Zfo2",
        "colab_type": "code",
        "colab": {}
      },
      "source": [
        "import konlpy\n",
        "from konlpy.tag import Hannanum\n",
        "hannanum = Hannanum()"
      ],
      "execution_count": 0,
      "outputs": []
    },
    {
      "cell_type": "code",
      "metadata": {
        "id": "wZAp1CNHjXCP",
        "colab_type": "code",
        "outputId": "ba823886-00c2-4024-b044-3168254e0565",
        "colab": {
          "base_uri": "https://localhost:8080/",
          "height": 34
        }
      },
      "source": [
        "hannanum.nouns(mer_data_part['text'].values[1])"
      ],
      "execution_count": 0,
      "outputs": [
        {
          "output_type": "execute_result",
          "data": {
            "text/plain": [
              "['중국', '\"`우한', '폐렴`', '4명', '추', '발생', '매일경제']"
            ]
          },
          "metadata": {
            "tags": []
          },
          "execution_count": 45
        }
      ]
    },
    {
      "cell_type": "code",
      "metadata": {
        "id": "zF5G7pwwZf6k",
        "colab_type": "code",
        "colab": {}
      },
      "source": [
        "temp = []\n",
        "for i in range(mer_data_part.shape[0]):\n",
        "  temp.append(hannanum.nouns(mer_data_part['text'].values[i]))"
      ],
      "execution_count": 0,
      "outputs": []
    },
    {
      "cell_type": "code",
      "metadata": {
        "id": "hHCOiodvf5gf",
        "colab_type": "code",
        "colab": {}
      },
      "source": [
        "def flatten(ls):\n",
        "  flatlist = []\n",
        "  for elem in ls:\n",
        "    if type(elem) == list:\n",
        "      for e in elem:\n",
        "        flatlist.append(e)\n",
        "    else:\n",
        "      flatlist.append(elem)\n",
        "  return flatlist\n"
      ],
      "execution_count": 0,
      "outputs": []
    },
    {
      "cell_type": "code",
      "metadata": {
        "id": "fK68-TZTf51F",
        "colab_type": "code",
        "colab": {}
      },
      "source": [
        "word_list = flatten(temp)"
      ],
      "execution_count": 0,
      "outputs": []
    },
    {
      "cell_type": "code",
      "metadata": {
        "id": "s185l_cIKVQC",
        "colab_type": "code",
        "colab": {}
      },
      "source": [
        "dic = {'우한폐렴': '우한 폐렴', \"'우한폐렴'\" :'우한 폐렴',\"‘신종\" : '신종', \"코로나’\" : '코로나', '신종코': '신종 코로나', \"'우한\" : '우한',\n",
        "       \"폐렴'\":'폐렴', \"폐렴’\" : '폐렴', \"‘우한\" : '우한',  '문재' : '문재인', \"때문\" : \"\",\n",
        "       \"코로나'\" : '코로나', 'ㅋㅋㅋㅋㅋ' :\"\", 'ㅠㅠ': \"\", \"네이버\" : \"\", \"출처\" :\"\", \"다음\" : \"\",\n",
        "       \"다음뉴스\" : \"\", \"연합뉴스\" : \"\", \"뉴스\" : \"\"}"
      ],
      "execution_count": 0,
      "outputs": []
    },
    {
      "cell_type": "code",
      "metadata": {
        "id": "jrbnLbNiL_9O",
        "colab_type": "code",
        "colab": {}
      },
      "source": [
        "word_list = [dic.get(n,n) for n in word_list]"
      ],
      "execution_count": 0,
      "outputs": []
    },
    {
      "cell_type": "code",
      "metadata": {
        "id": "my__diFxzZ9n",
        "colab_type": "code",
        "colab": {}
      },
      "source": [
        "word_list = [x for x in word_list if x!='신종' and x!='코로나' and x!='우한' and x!= '폐렴' and x!= '우한 폐렴' and x!='신종 코로나' and x!='바이러스' and x!='코로나바이러스']\n"
      ],
      "execution_count": 0,
      "outputs": []
    },
    {
      "cell_type": "code",
      "metadata": {
        "id": "J-bTkqJ-f6AQ",
        "colab_type": "code",
        "colab": {}
      },
      "source": [
        "word_list = pd.Series([x for x in word_list if len(x) > 1])"
      ],
      "execution_count": 0,
      "outputs": []
    },
    {
      "cell_type": "code",
      "metadata": {
        "id": "wcxsHqN10Tj5",
        "colab_type": "code",
        "outputId": "465c37e8-a070-4d27-aa74-93e9e2135ad8",
        "colab": {
          "base_uri": "https://localhost:8080/",
          "height": 228
        }
      },
      "source": [
        "word_list.value_counts()"
      ],
      "execution_count": 0,
      "outputs": [
        {
          "output_type": "execute_result",
          "data": {
            "text/plain": [
              "중국                   11845\n",
              "확진자                   8050\n",
              "환자                    5672\n",
              "마스크                   5421\n",
              "확산                    5388\n",
              "                     ...  \n",
              "#우한폐렴예방_손소독제_손세정제        1\n",
              "이일단                      1\n",
              "■우한폐렴(신종코로나)             1\n",
              "#coronarvirues           1\n",
              "0011362027               1\n",
              "Length: 155307, dtype: int64"
            ]
          },
          "metadata": {
            "tags": []
          },
          "execution_count": 214
        }
      ]
    },
    {
      "cell_type": "code",
      "metadata": {
        "id": "kOxaGE2X-kRg",
        "colab_type": "code",
        "colab": {}
      },
      "source": [
        "word_list.value_counts().reset_index(name = 'frequency').rename(columns = {'index' : 'words'}).to_csv('words_freq.csv')"
      ],
      "execution_count": 0,
      "outputs": []
    },
    {
      "cell_type": "code",
      "metadata": {
        "id": "v06j-xkHyW-m",
        "colab_type": "code",
        "outputId": "e664fab5-dcbe-4e6e-d4d8-52de1d845e32",
        "colab": {
          "base_uri": "https://localhost:8080/",
          "height": 1000
        }
      },
      "source": [
        "word_list.value_counts()[:100]"
      ],
      "execution_count": 0,
      "outputs": [
        {
          "output_type": "execute_result",
          "data": {
            "text/plain": [
              "중국                    11845\n",
              "확진자                    8050\n",
              "환자                     5672\n",
              "마스크                    5421\n",
              "확산                     5388\n",
              "감염                     4347\n",
              "정부                     4135\n",
              "국내                     4099\n",
              "사람                     3581\n",
              "발생                     3498\n",
              "중국인                    2989\n",
              "진짜                     2960\n",
              "대응                     2766\n",
              "사망자                    2713\n",
              "확진                     2361\n",
              "한국                     2336\n",
              "우리                     2291\n",
              "일본                     2259\n",
              "속보                     2217\n",
              "입국                     2173\n",
              "상황                     2112\n",
              "문재인                    2064\n",
              "생각                     2058\n",
              "사망                     1981\n",
              "공유                     1949\n",
              "취소                     1938\n",
              "감염자                    1912\n",
              "증상                     1886\n",
              "사태                     1847\n",
              "공포                     1760\n",
              "이번                     1714\n",
              "예방                     1709\n",
              "관련                     1694\n",
              "감염증                    1688\n",
              "국민                     1681\n",
              "독감                     1659\n",
              "오늘                     1628\n",
              "걱정                     1585\n",
              "미국                     1488\n",
              "건강                     1469\n",
              "병원                     1461\n",
              "이유                     1429\n",
              "확인                     1365\n",
              "방문                     1358\n",
              "격리                     1353\n",
              "우려                     1318\n",
              "조심                     1311\n",
              "전염                     1283\n",
              "대통령                    1281\n",
              "세계                     1217\n",
              "메르스                    1215\n",
              "근데                     1203\n",
              "심각                     1151\n",
              "다들                     1137\n",
              "문제                     1137\n",
              "사스                     1100\n",
              "종합                     1091\n",
              "2명                     1065\n",
              "불안                     1059\n",
              "방역                     1056\n",
              "#우한폐렴                  1055\n",
              "확진환자                   1045\n",
              "지역                     1037\n",
              "치료                     1025\n",
              "연기                     1020\n",
              "신종코로나                  1007\n",
              "검사                     1004\n",
              "가능성                    1001\n",
              "한국인                     995\n",
              "정보                      995\n",
              "가짜뉴스                    994\n",
              "#우한_폐렴                  988\n",
              "접촉                      961\n",
              "2월                      951\n",
              "예정                      950\n",
              "위험                      936\n",
              "전파                      922\n",
              "사람들                     922\n",
              "영상                      899\n",
              "금지                      898\n",
              "혐오                      896\n",
              "비상                      893\n",
              "조선일보                    890\n",
              "치사율                     886\n",
              "발표                      884\n",
              "우리나라                    878\n",
              "경제                      875\n",
              "#엔시티드림_마카오_스케줄_취소해      874\n",
              "#엔시티드림_마카오_콘서트_취소해      874\n",
              "#엔시티드림_해외스케줄_취소해        870\n",
              "의심                      868\n",
              "언론                      867\n",
              "조치                      867\n",
              "4명                      862\n",
              "전염병                     858\n",
              "기사                      852\n",
              "이상                      846\n",
              "남성                      839\n",
              "실시간                     835\n",
              "1명                      829\n",
              "dtype: int64"
            ]
          },
          "metadata": {
            "tags": []
          },
          "execution_count": 208
        }
      ]
    },
    {
      "cell_type": "code",
      "metadata": {
        "id": "K82f4T6z_2DT",
        "colab_type": "code",
        "colab": {}
      },
      "source": [
        "#1. 저장된 csv 파일에서 상위 199개 단어들만 남기고 freq의 최대값을 99로 scaling한다.\n",
        "#2. 한글 깨짐 현상을 해결하기 위해 1.을 거친 csv 파일을 메모장으로 다시 연다.\n",
        "#3. 다른 이름으로 저장하기를 이용해서 파일 형식을 모든 파일로 바꾼 다음 .csv로 저장하면 되는데 이때, 인코딩을 UTF8로 설정해야 한다."
      ],
      "execution_count": 0,
      "outputs": []
    }
  ]
}