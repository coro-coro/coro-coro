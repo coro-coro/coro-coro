{
  "nbformat": 4,
  "nbformat_minor": 0,
  "metadata": {
    "colab": {
      "name": "Untitled6.ipynb의 사본",
      "provenance": [],
      "collapsed_sections": []
    },
    "kernelspec": {
      "name": "python3",
      "display_name": "Python 3"
    },
    "accelerator": "GPU",
    "widgets": {
      "application/vnd.jupyter.widget-state+json": {
        "012d7e25426840cea44335c424cb34ed": {
          "model_module": "@jupyter-widgets/controls",
          "model_name": "HBoxModel",
          "state": {
            "_view_name": "HBoxView",
            "_dom_classes": [],
            "_model_name": "HBoxModel",
            "_view_module": "@jupyter-widgets/controls",
            "_model_module_version": "1.5.0",
            "_view_count": null,
            "_view_module_version": "1.5.0",
            "box_style": "",
            "layout": "IPY_MODEL_67d77f63cb4a418eaa60e4e2403f82dd",
            "_model_module": "@jupyter-widgets/controls",
            "children": [
              "IPY_MODEL_85af62b8f5a24c7cb2a6d466d6635f3e",
              "IPY_MODEL_88d60610e37b4221872b9c8253f4162d"
            ]
          }
        },
        "67d77f63cb4a418eaa60e4e2403f82dd": {
          "model_module": "@jupyter-widgets/base",
          "model_name": "LayoutModel",
          "state": {
            "_view_name": "LayoutView",
            "grid_template_rows": null,
            "right": null,
            "justify_content": null,
            "_view_module": "@jupyter-widgets/base",
            "overflow": null,
            "_model_module_version": "1.2.0",
            "_view_count": null,
            "flex_flow": null,
            "width": null,
            "min_width": null,
            "border": null,
            "align_items": null,
            "bottom": null,
            "_model_module": "@jupyter-widgets/base",
            "top": null,
            "grid_column": null,
            "overflow_y": null,
            "overflow_x": null,
            "grid_auto_flow": null,
            "grid_area": null,
            "grid_template_columns": null,
            "flex": null,
            "_model_name": "LayoutModel",
            "justify_items": null,
            "grid_row": null,
            "max_height": null,
            "align_content": null,
            "visibility": null,
            "align_self": null,
            "height": null,
            "min_height": null,
            "padding": null,
            "grid_auto_rows": null,
            "grid_gap": null,
            "max_width": null,
            "order": null,
            "_view_module_version": "1.2.0",
            "grid_template_areas": null,
            "object_position": null,
            "object_fit": null,
            "grid_auto_columns": null,
            "margin": null,
            "display": null,
            "left": null
          }
        },
        "85af62b8f5a24c7cb2a6d466d6635f3e": {
          "model_module": "@jupyter-widgets/controls",
          "model_name": "IntProgressModel",
          "state": {
            "_view_name": "ProgressView",
            "style": "IPY_MODEL_5844112f40044e2484a5770ef7a3e0b7",
            "_dom_classes": [],
            "description": "",
            "_model_name": "IntProgressModel",
            "bar_style": "success",
            "max": 6286,
            "_view_module": "@jupyter-widgets/controls",
            "_model_module_version": "1.5.0",
            "value": 6286,
            "_view_count": null,
            "_view_module_version": "1.5.0",
            "orientation": "horizontal",
            "min": 0,
            "description_tooltip": null,
            "_model_module": "@jupyter-widgets/controls",
            "layout": "IPY_MODEL_0063474a3b7a40718f6dc955699a4a55"
          }
        },
        "88d60610e37b4221872b9c8253f4162d": {
          "model_module": "@jupyter-widgets/controls",
          "model_name": "HTMLModel",
          "state": {
            "_view_name": "HTMLView",
            "style": "IPY_MODEL_ebcb0d47ff534588ae1367e588d69b72",
            "_dom_classes": [],
            "description": "",
            "_model_name": "HTMLModel",
            "placeholder": "​",
            "_view_module": "@jupyter-widgets/controls",
            "_model_module_version": "1.5.0",
            "value": "100% 6286/6286 [2:37:22&lt;00:00,  1.40s/it]",
            "_view_count": null,
            "_view_module_version": "1.5.0",
            "description_tooltip": null,
            "_model_module": "@jupyter-widgets/controls",
            "layout": "IPY_MODEL_8333b29172e141feb83286fd719a5898"
          }
        },
        "5844112f40044e2484a5770ef7a3e0b7": {
          "model_module": "@jupyter-widgets/controls",
          "model_name": "ProgressStyleModel",
          "state": {
            "_view_name": "StyleView",
            "_model_name": "ProgressStyleModel",
            "description_width": "",
            "_view_module": "@jupyter-widgets/base",
            "_model_module_version": "1.5.0",
            "_view_count": null,
            "_view_module_version": "1.2.0",
            "bar_color": null,
            "_model_module": "@jupyter-widgets/controls"
          }
        },
        "0063474a3b7a40718f6dc955699a4a55": {
          "model_module": "@jupyter-widgets/base",
          "model_name": "LayoutModel",
          "state": {
            "_view_name": "LayoutView",
            "grid_template_rows": null,
            "right": null,
            "justify_content": null,
            "_view_module": "@jupyter-widgets/base",
            "overflow": null,
            "_model_module_version": "1.2.0",
            "_view_count": null,
            "flex_flow": null,
            "width": null,
            "min_width": null,
            "border": null,
            "align_items": null,
            "bottom": null,
            "_model_module": "@jupyter-widgets/base",
            "top": null,
            "grid_column": null,
            "overflow_y": null,
            "overflow_x": null,
            "grid_auto_flow": null,
            "grid_area": null,
            "grid_template_columns": null,
            "flex": null,
            "_model_name": "LayoutModel",
            "justify_items": null,
            "grid_row": null,
            "max_height": null,
            "align_content": null,
            "visibility": null,
            "align_self": null,
            "height": null,
            "min_height": null,
            "padding": null,
            "grid_auto_rows": null,
            "grid_gap": null,
            "max_width": null,
            "order": null,
            "_view_module_version": "1.2.0",
            "grid_template_areas": null,
            "object_position": null,
            "object_fit": null,
            "grid_auto_columns": null,
            "margin": null,
            "display": null,
            "left": null
          }
        },
        "ebcb0d47ff534588ae1367e588d69b72": {
          "model_module": "@jupyter-widgets/controls",
          "model_name": "DescriptionStyleModel",
          "state": {
            "_view_name": "StyleView",
            "_model_name": "DescriptionStyleModel",
            "description_width": "",
            "_view_module": "@jupyter-widgets/base",
            "_model_module_version": "1.5.0",
            "_view_count": null,
            "_view_module_version": "1.2.0",
            "_model_module": "@jupyter-widgets/controls"
          }
        },
        "8333b29172e141feb83286fd719a5898": {
          "model_module": "@jupyter-widgets/base",
          "model_name": "LayoutModel",
          "state": {
            "_view_name": "LayoutView",
            "grid_template_rows": null,
            "right": null,
            "justify_content": null,
            "_view_module": "@jupyter-widgets/base",
            "overflow": null,
            "_model_module_version": "1.2.0",
            "_view_count": null,
            "flex_flow": null,
            "width": null,
            "min_width": null,
            "border": null,
            "align_items": null,
            "bottom": null,
            "_model_module": "@jupyter-widgets/base",
            "top": null,
            "grid_column": null,
            "overflow_y": null,
            "overflow_x": null,
            "grid_auto_flow": null,
            "grid_area": null,
            "grid_template_columns": null,
            "flex": null,
            "_model_name": "LayoutModel",
            "justify_items": null,
            "grid_row": null,
            "max_height": null,
            "align_content": null,
            "visibility": null,
            "align_self": null,
            "height": null,
            "min_height": null,
            "padding": null,
            "grid_auto_rows": null,
            "grid_gap": null,
            "max_width": null,
            "order": null,
            "_view_module_version": "1.2.0",
            "grid_template_areas": null,
            "object_position": null,
            "object_fit": null,
            "grid_auto_columns": null,
            "margin": null,
            "display": null,
            "left": null
          }
        }
      }
    }
  },
  "cells": [
    {
      "cell_type": "code",
      "metadata": {
        "id": "Z9ed--Vr8Luj",
        "colab_type": "code",
        "outputId": "19576ebb-fd9d-4975-ab7c-ef6ec90d9fe5",
        "colab": {
          "base_uri": "https://localhost:8080/",
          "height": 125
        }
      },
      "source": [
        "#from google.colab import drive\n",
        "#drive.mount('/content/drive')"
      ],
      "execution_count": 2,
      "outputs": [
        {
          "output_type": "stream",
          "text": [
            "Go to this URL in a browser: https://accounts.google.com/o/oauth2/auth?client_id=947318989803-6bn6qk8qdgf4n4g3pfee6491hc0brc4i.apps.googleusercontent.com&redirect_uri=urn%3aietf%3awg%3aoauth%3a2.0%3aoob&response_type=code&scope=email%20https%3a%2f%2fwww.googleapis.com%2fauth%2fdocs.test%20https%3a%2f%2fwww.googleapis.com%2fauth%2fdrive%20https%3a%2f%2fwww.googleapis.com%2fauth%2fdrive.photos.readonly%20https%3a%2f%2fwww.googleapis.com%2fauth%2fpeopleapi.readonly\n",
            "\n",
            "Enter your authorization code:\n",
            "··········\n",
            "Mounted at /content/drive\n"
          ],
          "name": "stdout"
        }
      ]
    },
    {
      "cell_type": "code",
      "metadata": {
        "id": "P9wcPTgi8D2p",
        "colab_type": "code",
        "outputId": "e561777c-57b7-4940-fd0e-1d61b59acb9c",
        "colab": {
          "base_uri": "https://localhost:8080/",
          "height": 34
        }
      },
      "source": [
        "#%cd /content/drive/My Drive"
      ],
      "execution_count": 3,
      "outputs": [
        {
          "output_type": "stream",
          "text": [
            "/content/drive/My Drive/data\n"
          ],
          "name": "stdout"
        }
      ]
    },
    {
      "cell_type": "code",
      "metadata": {
        "id": "KE5YczJJ8OMB",
        "colab_type": "code",
        "outputId": "fc9f970b-5290-4d31-c0a3-dbfb9e312e38",
        "colab": {
          "base_uri": "https://localhost:8080/",
          "height": 195
        }
      },
      "source": [
        "# GetOldTweet3 사용 준비\n",
        "try:\n",
        "    import GetOldTweets3 as got\n",
        "except:\n",
        "    !pip install GetOldTweets3\n",
        "    import GetOldTweets3 as got"
      ],
      "execution_count": 4,
      "outputs": [
        {
          "output_type": "stream",
          "text": [
            "Collecting GetOldTweets3\n",
            "  Downloading https://files.pythonhosted.org/packages/ed/f4/a00c2a7c90801abc875325bb5416ce9090ac86d06a00cc887131bd73ba45/GetOldTweets3-0.0.11-py3-none-any.whl\n",
            "Requirement already satisfied: lxml>=3.5.0 in /usr/local/lib/python3.6/dist-packages (from GetOldTweets3) (4.2.6)\n",
            "Collecting pyquery>=1.2.10\n",
            "  Downloading https://files.pythonhosted.org/packages/78/43/95d42e386c61cb639d1a0b94f0c0b9f0b7d6b981ad3c043a836c8b5bc68b/pyquery-1.4.1-py2.py3-none-any.whl\n",
            "Collecting cssselect>0.7.9\n",
            "  Downloading https://files.pythonhosted.org/packages/3b/d4/3b5c17f00cce85b9a1e6f91096e1cc8e8ede2e1be8e96b87ce1ed09e92c5/cssselect-1.1.0-py2.py3-none-any.whl\n",
            "Installing collected packages: cssselect, pyquery, GetOldTweets3\n",
            "Successfully installed GetOldTweets3-0.0.11 cssselect-1.1.0 pyquery-1.4.1\n"
          ],
          "name": "stdout"
        }
      ]
    },
    {
      "cell_type": "code",
      "metadata": {
        "id": "oqymMO478OOY",
        "colab_type": "code",
        "colab": {}
      },
      "source": [
        "# BeautifulSoup4 사용 준비\n",
        "try:\n",
        "    from bs4 import BeautifulSoup\n",
        "except:\n",
        "    !pip install bs4\n",
        "    from bs4 import BeautifulSoup"
      ],
      "execution_count": 0,
      "outputs": []
    },
    {
      "cell_type": "code",
      "metadata": {
        "id": "U1WV9Y0QpjWy",
        "colab_type": "code",
        "colab": {}
      },
      "source": [
        "try:\n",
        "    from tqdm import tqdm_notebook\n",
        "except:\n",
        "    !pip install tqdm\n",
        "    from tqdm import tqdm_notebook"
      ],
      "execution_count": 0,
      "outputs": []
    },
    {
      "cell_type": "code",
      "metadata": {
        "id": "-bV9Six8877y",
        "colab_type": "code",
        "outputId": "56c2e2cf-adb3-4f4e-f77b-7fb356056ece",
        "colab": {
          "base_uri": "https://localhost:8080/",
          "height": 52
        }
      },
      "source": [
        "# 가져올 범위를 정의\n",
        "# 예제 : 2020-01-18 ~ 2020-01-24\n",
        "\n",
        "import datetime\n",
        "\n",
        "days_range = []\n",
        "\n",
        "start = datetime.datetime.strptime(\"2020-01-18\", \"%Y-%m-%d\")\n",
        "end = datetime.datetime.strptime(\"2020-01-25\", \"%Y-%m-%d\")\n",
        "date_generated = [start + datetime.timedelta(days=x) for x in range(0, (end-start).days)]\n",
        "\n",
        "for date in date_generated:\n",
        "    days_range.append(date.strftime(\"%Y-%m-%d\"))\n",
        "\n",
        "print(\"=== 설정된 트윗 수집 기간은 {} 에서 {} 까지 입니다 ===\".format(days_range[0], days_range[-1]))\n",
        "print(\"=== 총 {}일 간의 데이터 수집 ===\".format(len(days_range)))\n",
        "\n"
      ],
      "execution_count": 18,
      "outputs": [
        {
          "output_type": "stream",
          "text": [
            "=== 설정된 트윗 수집 기간은 2020-01-18 에서 2020-01-24 까지 입니다 ===\n",
            "=== 총 7일 간의 데이터 수집 ===\n"
          ],
          "name": "stdout"
        }
      ]
    },
    {
      "cell_type": "code",
      "metadata": {
        "id": "xCR-xG_v8XM_",
        "colab_type": "code",
        "outputId": "763a5764-687b-447a-ab9c-d33077b36916",
        "colab": {
          "base_uri": "https://localhost:8080/",
          "height": 70
        }
      },
      "source": [
        "# 특정 검색어가 포함된 트윗 검색하기 (quary search)\n",
        "\n",
        "\n",
        "import time\n",
        "\n",
        "# 수집 기간 맞추기\n",
        "start_date = days_range[0]\n",
        "end_date = (datetime.datetime.strptime(days_range[-1], \"%Y-%m-%d\") \n",
        "            + datetime.timedelta(days=1)).strftime(\"%Y-%m-%d\") # setUntil이 끝을 포함하지 않으므로, day + 1\n",
        "\n",
        "# 트윗 수집 기준 정의\n",
        "tweetCriteria = got.manager.TweetCriteria().setQuerySearch('(신종 +코로나) OR (우한 +폐렴)')\\\n",
        "                                           .setSince(start_date)\\\n",
        "                                           .setUntil(end_date)\\\n",
        "                                           .setMaxTweets(-1)\n",
        "\n",
        "\n",
        "#tweetCriteria = got.manager.TweetCriteria().setQuerySearch('(신종 +코로나) OR (우한 +폐렴) OR (신종코로나) OR (우한폐렴)')\\\n",
        "#                                           .setSince(start_date)\\\n",
        "#                                           .setUntil(end_date)\\\n",
        "#                                           .setMaxTweets(-1)\n",
        "\n",
        "# 수집 with GetOldTweet3\n",
        "print(\"Collecting data start.. from {} to {}\".format(days_range[0], days_range[-1]))\n",
        "start_time = time.time()\n",
        "\n",
        "tweet = got.manager.TweetManager.getTweets(tweetCriteria)\n",
        "\n",
        "print(\"Collecting data end.. {0:0.2f} Minutes\".format((time.time() - start_time)/60))\n",
        "print(\"=== Total num of tweets is {} ===\".format(len(tweet)))\n"
      ],
      "execution_count": 19,
      "outputs": [
        {
          "output_type": "stream",
          "text": [
            "Collecting data start.. from 2020-01-18 to 2020-01-24\n",
            "Collecting data end.. 3.41 Minutes\n",
            "=== Total num of tweets is 6286 ===\n"
          ],
          "name": "stdout"
        }
      ]
    },
    {
      "cell_type": "code",
      "metadata": {
        "id": "P5NTrvlf_FwS",
        "colab_type": "code",
        "colab": {
          "base_uri": "https://localhost:8080/",
          "height": 49,
          "referenced_widgets": [
            "012d7e25426840cea44335c424cb34ed",
            "67d77f63cb4a418eaa60e4e2403f82dd",
            "85af62b8f5a24c7cb2a6d466d6635f3e",
            "88d60610e37b4221872b9c8253f4162d",
            "5844112f40044e2484a5770ef7a3e0b7",
            "0063474a3b7a40718f6dc955699a4a55",
            "ebcb0d47ff534588ae1367e588d69b72",
            "8333b29172e141feb83286fd719a5898"
          ]
        },
        "outputId": "ad41ad81-db53-4ce0-b650-507655e2ae38"
      },
      "source": [
        "# 원하는 변수 골라서 저장하기\n",
        "\n",
        "from random import uniform\n",
        "from tqdm import tqdm_notebook\n",
        "\n",
        "# initialize\n",
        "tweet_list = []\n",
        "\n",
        "for index in tqdm_notebook(tweet):\n",
        "    \n",
        "    # 메타데이터 목록 \n",
        "    username = index.username\n",
        "    link = index.permalink \n",
        "    content = index.text\n",
        "    tweet_date = index.date.strftime(\"%Y-%m-%d\")\n",
        "    tweet_time = index.date.strftime(\"%H:%M:%S\")\n",
        "    retweets = index.retweets\n",
        "    favorites = index.favorites\n",
        "    \n",
        "    # === 유저 정보 수집 시작 ===\n",
        "    #try:\n",
        "        #personal_link = 'https://twitter.com/' + username\n",
        "        #bs_obj = get_bs_obj(personal_link)\n",
        "        #uls = bs_obj.find(\"ul\", {\"class\": \"ProfileNav-list\"}).find_all(\"li\")\n",
        "        #div = bs_obj.find(\"div\", {\"class\": \"ProfileHeaderCard-joinDate\"}).find_all(\"span\")[1][\"title\"]\n",
        "\n",
        "\n",
        "        # 가입일, 전체 트윗 수, 팔로잉 수, 팔로워 수\n",
        "        #joined_date = div.split('-')[1].strip()\n",
        "        #num_tweets = uls[0].find(\"span\", {\"class\": \"ProfileNav-value\"}).text.strip()\n",
        "        #num_following = uls[1].find(\"span\", {\"class\": \"ProfileNav-value\"}).text.strip()\n",
        "        #num_follower = uls[2].find(\"span\", {\"class\": \"ProfileNav-value\"}).text.strip()\n",
        "    \n",
        "    #except AttributeError:\n",
        "        #print(\"=== Attribute error occurs at {} ===\".format(link))\n",
        "        #print(\"link : {}\".format(personal_link))   \n",
        "        #pass\n",
        "     \n",
        "    # 결과 합치기\n",
        "    info_list = [tweet_date, tweet_time, username, content, link, retweets, favorites]\n",
        "    tweet_list.append(info_list)\n",
        "    \n",
        "    # 휴식 \n",
        "    time.sleep(uniform(1,2))"
      ],
      "execution_count": 20,
      "outputs": [
        {
          "output_type": "display_data",
          "data": {
            "application/vnd.jupyter.widget-view+json": {
              "model_id": "012d7e25426840cea44335c424cb34ed",
              "version_minor": 0,
              "version_major": 2
            },
            "text/plain": [
              "HBox(children=(IntProgress(value=0, max=6286), HTML(value='')))"
            ]
          },
          "metadata": {
            "tags": []
          }
        }
      ]
    },
    {
      "cell_type": "code",
      "metadata": {
        "id": "Fu0SGMW6_RtM",
        "colab_type": "code",
        "colab": {
          "base_uri": "https://localhost:8080/",
          "height": 34
        },
        "outputId": "07b739af-7dda-4aa4-947e-9155f6735abd"
      },
      "source": [
        "import pandas as pd\n",
        "\n",
        "twitter_df = pd.DataFrame(tweet_list, \n",
        "                          columns = [\"date\", \"time\", \"user_name\", \"text\", \"link\", \"retweet_counts\", \"favorite_counts\"])\n",
        "\n",
        "# csv 파일 만들기\n",
        "twitter_df.to_csv(\"(test)sample_twitter_data_{}_to_{}.csv\".format(days_range[0], days_range[-1]), index=False)\n",
        "print(\"=== {} tweets are successfully saved ===\".format(len(tweet_list)))"
      ],
      "execution_count": 21,
      "outputs": [
        {
          "output_type": "stream",
          "text": [
            "=== 6286 tweets are successfully saved ===\n"
          ],
          "name": "stdout"
        }
      ]
    },
    {
      "cell_type": "code",
      "metadata": {
        "id": "FJZPj72qoFT5",
        "colab_type": "code",
        "colab": {
          "base_uri": "https://localhost:8080/",
          "height": 199
        },
        "outputId": "a63ce9ac-fafc-47ea-9f87-fb1b28c4dd92"
      },
      "source": [
        "twitter_df[['date', 'time', 'text', 'retweet_counts', 'favorite_counts']].head()"
      ],
      "execution_count": 23,
      "outputs": [
        {
          "output_type": "execute_result",
          "data": {
            "text/html": [
              "<div>\n",
              "<style scoped>\n",
              "    .dataframe tbody tr th:only-of-type {\n",
              "        vertical-align: middle;\n",
              "    }\n",
              "\n",
              "    .dataframe tbody tr th {\n",
              "        vertical-align: top;\n",
              "    }\n",
              "\n",
              "    .dataframe thead th {\n",
              "        text-align: right;\n",
              "    }\n",
              "</style>\n",
              "<table border=\"1\" class=\"dataframe\">\n",
              "  <thead>\n",
              "    <tr style=\"text-align: right;\">\n",
              "      <th></th>\n",
              "      <th>date</th>\n",
              "      <th>time</th>\n",
              "      <th>text</th>\n",
              "      <th>retweet_counts</th>\n",
              "      <th>favorite_counts</th>\n",
              "    </tr>\n",
              "  </thead>\n",
              "  <tbody>\n",
              "    <tr>\n",
              "      <th>0</th>\n",
              "      <td>2020-01-24</td>\n",
              "      <td>23:59:33</td>\n",
              "      <td>우한폐렴 2번째 확진환자 거주지 (출처 : 파격과 순.. | 블로그)</td>\n",
              "      <td>0</td>\n",
              "      <td>0</td>\n",
              "    </tr>\n",
              "    <tr>\n",
              "      <th>1</th>\n",
              "      <td>2020-01-24</td>\n",
              "      <td>23:59:22</td>\n",
              "      <td>우한 폐렴 사망자 41명이네 ㅡㅡ 이쯤되면 사망자들이 주로 어떤 사람들이었는지 알려...</td>\n",
              "      <td>17</td>\n",
              "      <td>16</td>\n",
              "    </tr>\n",
              "    <tr>\n",
              "      <th>2</th>\n",
              "      <td>2020-01-24</td>\n",
              "      <td>23:58:48</td>\n",
              "      <td>정정. 우한 폐렴 ㄴㄴ. 신종 코로나바이러스.</td>\n",
              "      <td>0</td>\n",
              "      <td>0</td>\n",
              "    </tr>\n",
              "    <tr>\n",
              "      <th>3</th>\n",
              "      <td>2020-01-24</td>\n",
              "      <td>23:58:48</td>\n",
              "      <td>사스에는 김치가 특효약이었듯... 우한 폐렴도 김치로 버틴다</td>\n",
              "      <td>0</td>\n",
              "      <td>0</td>\n",
              "    </tr>\n",
              "    <tr>\n",
              "      <th>4</th>\n",
              "      <td>2020-01-24</td>\n",
              "      <td>23:58:45</td>\n",
              "      <td>넹 꿈에 우한폐렴 어쩌구 나와서 무서웠지만 괜찮습미다(티엠아이지만 말하겠어요 !!</td>\n",
              "      <td>0</td>\n",
              "      <td>1</td>\n",
              "    </tr>\n",
              "  </tbody>\n",
              "</table>\n",
              "</div>"
            ],
            "text/plain": [
              "         date      time  ... retweet_counts  favorite_counts\n",
              "0  2020-01-24  23:59:33  ...              0                0\n",
              "1  2020-01-24  23:59:22  ...             17               16\n",
              "2  2020-01-24  23:58:48  ...              0                0\n",
              "3  2020-01-24  23:58:48  ...              0                0\n",
              "4  2020-01-24  23:58:45  ...              0                1\n",
              "\n",
              "[5 rows x 5 columns]"
            ]
          },
          "metadata": {
            "tags": []
          },
          "execution_count": 23
        }
      ]
    },
    {
      "cell_type": "code",
      "metadata": {
        "id": "Z0mp3HL1oYF4",
        "colab_type": "code",
        "colab": {
          "base_uri": "https://localhost:8080/",
          "height": 199
        },
        "outputId": "8a4e5f6f-229a-4c6c-a42c-1322c70ee3eb"
      },
      "source": [
        "twitter_df[['date', 'time', 'text', 'retweet_counts', 'favorite_counts']].tail()"
      ],
      "execution_count": 26,
      "outputs": [
        {
          "output_type": "execute_result",
          "data": {
            "text/html": [
              "<div>\n",
              "<style scoped>\n",
              "    .dataframe tbody tr th:only-of-type {\n",
              "        vertical-align: middle;\n",
              "    }\n",
              "\n",
              "    .dataframe tbody tr th {\n",
              "        vertical-align: top;\n",
              "    }\n",
              "\n",
              "    .dataframe thead th {\n",
              "        text-align: right;\n",
              "    }\n",
              "</style>\n",
              "<table border=\"1\" class=\"dataframe\">\n",
              "  <thead>\n",
              "    <tr style=\"text-align: right;\">\n",
              "      <th></th>\n",
              "      <th>date</th>\n",
              "      <th>time</th>\n",
              "      <th>text</th>\n",
              "      <th>retweet_counts</th>\n",
              "      <th>favorite_counts</th>\n",
              "    </tr>\n",
              "  </thead>\n",
              "  <tbody>\n",
              "    <tr>\n",
              "      <th>6281</th>\n",
              "      <td>2020-01-18</td>\n",
              "      <td>02:27:08</td>\n",
              "      <td>중국 ``우한 폐렴` 4명 추가 발생`…확진 45명으로 증가</td>\n",
              "      <td>0</td>\n",
              "      <td>0</td>\n",
              "    </tr>\n",
              "    <tr>\n",
              "      <th>6282</th>\n",
              "      <td>2020-01-18</td>\n",
              "      <td>02:24:01</td>\n",
              "      <td>中우한 폐렴 4명 추가 감염.. 감염사례 모두 45건 출처 : 파이낸셜뉴스 | 네이...</td>\n",
              "      <td>0</td>\n",
              "      <td>0</td>\n",
              "    </tr>\n",
              "    <tr>\n",
              "      <th>6283</th>\n",
              "      <td>2020-01-18</td>\n",
              "      <td>02:14:16</td>\n",
              "      <td>［今日の社説2020/01/18］ ・공직자들 총선 출마 러시, 공직이 ‘스펙 쌓기’ ...</td>\n",
              "      <td>0</td>\n",
              "      <td>1</td>\n",
              "    </tr>\n",
              "    <tr>\n",
              "      <th>6284</th>\n",
              "      <td>2020-01-18</td>\n",
              "      <td>01:43:20</td>\n",
              "      <td>美 3개 주요 공항, 우한發 폐렴 검역 강화</td>\n",
              "      <td>0</td>\n",
              "      <td>1</td>\n",
              "    </tr>\n",
              "    <tr>\n",
              "      <th>6285</th>\n",
              "      <td>2020-01-18</td>\n",
              "      <td>00:31:53</td>\n",
              "      <td>중국 폐렴, 신종 코로나 바이러스</td>\n",
              "      <td>0</td>\n",
              "      <td>0</td>\n",
              "    </tr>\n",
              "  </tbody>\n",
              "</table>\n",
              "</div>"
            ],
            "text/plain": [
              "            date      time  ... retweet_counts  favorite_counts\n",
              "6281  2020-01-18  02:27:08  ...              0                0\n",
              "6282  2020-01-18  02:24:01  ...              0                0\n",
              "6283  2020-01-18  02:14:16  ...              0                1\n",
              "6284  2020-01-18  01:43:20  ...              0                1\n",
              "6285  2020-01-18  00:31:53  ...              0                0\n",
              "\n",
              "[5 rows x 5 columns]"
            ]
          },
          "metadata": {
            "tags": []
          },
          "execution_count": 26
        }
      ]
    }
  ]
}