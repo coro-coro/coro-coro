{
 "cells": [
  {
   "cell_type": "code",
   "execution_count": 0,
   "metadata": {
    "colab": {},
    "colab_type": "code",
    "id": "7i9bLz2M9s-h"
   },
   "outputs": [],
   "source": [
    "import pandas as pd\n",
    "import numpy as np\n",
    "import pyecharts"
   ]
  },
  {
   "cell_type": "code",
   "execution_count": 0,
   "metadata": {
    "colab": {},
    "colab_type": "code",
    "id": "H3kWDt3i-kFT"
   },
   "outputs": [],
   "source": [
    "data_path = 'patient_data.csv'\n",
    "data = pd.read_csv(data_path,  encoding = 'euc-kr')"
   ]
  },
  {
   "cell_type": "code",
   "execution_count": 34,
   "metadata": {
    "colab": {
     "base_uri": "https://localhost:8080/",
     "height": 204
    },
    "colab_type": "code",
    "id": "BAQ11o41ArXa",
    "outputId": "e1d00729-e69c-498f-b82c-7309e6e6392c"
   },
   "outputs": [
    {
     "data": {
      "text/html": [
       "<div>\n",
       "<style scoped>\n",
       "    .dataframe tbody tr th:only-of-type {\n",
       "        vertical-align: middle;\n",
       "    }\n",
       "\n",
       "    .dataframe tbody tr th {\n",
       "        vertical-align: top;\n",
       "    }\n",
       "\n",
       "    .dataframe thead th {\n",
       "        text-align: right;\n",
       "    }\n",
       "</style>\n",
       "<table border=\"1\" class=\"dataframe\">\n",
       "  <thead>\n",
       "    <tr style=\"text-align: right;\">\n",
       "      <th></th>\n",
       "      <th>date</th>\n",
       "      <th>ID</th>\n",
       "      <th>degree</th>\n",
       "      <th>hospital</th>\n",
       "      <th>condition</th>\n",
       "      <th>sex</th>\n",
       "      <th>type</th>\n",
       "      <th>age</th>\n",
       "      <th>country</th>\n",
       "      <th>note</th>\n",
       "    </tr>\n",
       "  </thead>\n",
       "  <tbody>\n",
       "    <tr>\n",
       "      <th>0</th>\n",
       "      <td>2020-01-19</td>\n",
       "      <td>1</td>\n",
       "      <td>1차</td>\n",
       "      <td>인천의료원</td>\n",
       "      <td>퇴원</td>\n",
       "      <td>여</td>\n",
       "      <td>중국인 관광객</td>\n",
       "      <td>30대</td>\n",
       "      <td>중국</td>\n",
       "      <td>NaN</td>\n",
       "    </tr>\n",
       "    <tr>\n",
       "      <th>1</th>\n",
       "      <td>2020-01-22</td>\n",
       "      <td>2</td>\n",
       "      <td>1차</td>\n",
       "      <td>국립중앙의료원</td>\n",
       "      <td>퇴원</td>\n",
       "      <td>남</td>\n",
       "      <td>우한 교민</td>\n",
       "      <td>50대</td>\n",
       "      <td>한국</td>\n",
       "      <td>NaN</td>\n",
       "    </tr>\n",
       "    <tr>\n",
       "      <th>2</th>\n",
       "      <td>2020-01-25</td>\n",
       "      <td>3</td>\n",
       "      <td>1차</td>\n",
       "      <td>일산명지병원</td>\n",
       "      <td>입원</td>\n",
       "      <td>남</td>\n",
       "      <td>우한 교민</td>\n",
       "      <td>50대</td>\n",
       "      <td>한국</td>\n",
       "      <td>NaN</td>\n",
       "    </tr>\n",
       "    <tr>\n",
       "      <th>3</th>\n",
       "      <td>2020-01-26</td>\n",
       "      <td>4</td>\n",
       "      <td>1차</td>\n",
       "      <td>분당서울대병원</td>\n",
       "      <td>퇴원</td>\n",
       "      <td>남</td>\n",
       "      <td>우한 방문자</td>\n",
       "      <td>50대</td>\n",
       "      <td>한국</td>\n",
       "      <td>NaN</td>\n",
       "    </tr>\n",
       "    <tr>\n",
       "      <th>4</th>\n",
       "      <td>2020-01-30</td>\n",
       "      <td>5</td>\n",
       "      <td>1차</td>\n",
       "      <td>서울의료원</td>\n",
       "      <td>입원</td>\n",
       "      <td>남</td>\n",
       "      <td>우한 방문자</td>\n",
       "      <td>30대</td>\n",
       "      <td>한국</td>\n",
       "      <td>NaN</td>\n",
       "    </tr>\n",
       "  </tbody>\n",
       "</table>\n",
       "</div>"
      ],
      "text/plain": [
       "         date  ID degree hospital condition sex     type  age country note\n",
       "0  2020-01-19   1     1차    인천의료원        퇴원   여  중국인 관광객  30대      중국  NaN\n",
       "1  2020-01-22   2     1차  국립중앙의료원        퇴원   남    우한 교민  50대      한국  NaN\n",
       "2  2020-01-25   3     1차   일산명지병원        입원   남    우한 교민  50대      한국  NaN\n",
       "3  2020-01-26   4     1차  분당서울대병원        퇴원   남   우한 방문자  50대      한국  NaN\n",
       "4  2020-01-30   5     1차    서울의료원        입원   남   우한 방문자  30대      한국  NaN"
      ]
     },
     "execution_count": 34,
     "metadata": {
      "tags": []
     },
     "output_type": "execute_result"
    }
   ],
   "source": [
    "data.head()"
   ]
  },
  {
   "cell_type": "code",
   "execution_count": 35,
   "metadata": {
    "colab": {
     "base_uri": "https://localhost:8080/",
     "height": 204
    },
    "colab_type": "code",
    "id": "FR7W4VFIDWZI",
    "outputId": "90bd2077-e92b-4260-a8b1-01dce79ffed5"
   },
   "outputs": [
    {
     "data": {
      "text/html": [
       "<div>\n",
       "<style scoped>\n",
       "    .dataframe tbody tr th:only-of-type {\n",
       "        vertical-align: middle;\n",
       "    }\n",
       "\n",
       "    .dataframe tbody tr th {\n",
       "        vertical-align: top;\n",
       "    }\n",
       "\n",
       "    .dataframe thead th {\n",
       "        text-align: right;\n",
       "    }\n",
       "</style>\n",
       "<table border=\"1\" class=\"dataframe\">\n",
       "  <thead>\n",
       "    <tr style=\"text-align: right;\">\n",
       "      <th></th>\n",
       "      <th>date</th>\n",
       "      <th>ID</th>\n",
       "      <th>degree</th>\n",
       "      <th>hospital</th>\n",
       "      <th>condition</th>\n",
       "      <th>sex</th>\n",
       "      <th>type</th>\n",
       "      <th>age</th>\n",
       "      <th>country</th>\n",
       "      <th>note</th>\n",
       "    </tr>\n",
       "  </thead>\n",
       "  <tbody>\n",
       "    <tr>\n",
       "      <th>0</th>\n",
       "      <td>2020-01-19</td>\n",
       "      <td>1</td>\n",
       "      <td>1차</td>\n",
       "      <td>인천의료원</td>\n",
       "      <td>퇴원</td>\n",
       "      <td>여</td>\n",
       "      <td>중국인 관광객</td>\n",
       "      <td>30대</td>\n",
       "      <td>중국</td>\n",
       "      <td></td>\n",
       "    </tr>\n",
       "    <tr>\n",
       "      <th>1</th>\n",
       "      <td>2020-01-22</td>\n",
       "      <td>2</td>\n",
       "      <td>1차</td>\n",
       "      <td>국립중앙의료원</td>\n",
       "      <td>퇴원</td>\n",
       "      <td>남</td>\n",
       "      <td>우한 교민</td>\n",
       "      <td>50대</td>\n",
       "      <td>한국</td>\n",
       "      <td></td>\n",
       "    </tr>\n",
       "    <tr>\n",
       "      <th>2</th>\n",
       "      <td>2020-01-25</td>\n",
       "      <td>3</td>\n",
       "      <td>1차</td>\n",
       "      <td>일산명지병원</td>\n",
       "      <td>입원</td>\n",
       "      <td>남</td>\n",
       "      <td>우한 교민</td>\n",
       "      <td>50대</td>\n",
       "      <td>한국</td>\n",
       "      <td></td>\n",
       "    </tr>\n",
       "    <tr>\n",
       "      <th>3</th>\n",
       "      <td>2020-01-26</td>\n",
       "      <td>4</td>\n",
       "      <td>1차</td>\n",
       "      <td>분당서울대병원</td>\n",
       "      <td>퇴원</td>\n",
       "      <td>남</td>\n",
       "      <td>우한 방문자</td>\n",
       "      <td>50대</td>\n",
       "      <td>한국</td>\n",
       "      <td></td>\n",
       "    </tr>\n",
       "    <tr>\n",
       "      <th>4</th>\n",
       "      <td>2020-01-30</td>\n",
       "      <td>5</td>\n",
       "      <td>1차</td>\n",
       "      <td>서울의료원</td>\n",
       "      <td>입원</td>\n",
       "      <td>남</td>\n",
       "      <td>우한 방문자</td>\n",
       "      <td>30대</td>\n",
       "      <td>한국</td>\n",
       "      <td></td>\n",
       "    </tr>\n",
       "  </tbody>\n",
       "</table>\n",
       "</div>"
      ],
      "text/plain": [
       "         date  ID degree hospital condition sex     type  age country note\n",
       "0  2020-01-19   1     1차    인천의료원        퇴원   여  중국인 관광객  30대      중국     \n",
       "1  2020-01-22   2     1차  국립중앙의료원        퇴원   남    우한 교민  50대      한국     \n",
       "2  2020-01-25   3     1차   일산명지병원        입원   남    우한 교민  50대      한국     \n",
       "3  2020-01-26   4     1차  분당서울대병원        퇴원   남   우한 방문자  50대      한국     \n",
       "4  2020-01-30   5     1차    서울의료원        입원   남   우한 방문자  30대      한국     "
      ]
     },
     "execution_count": 35,
     "metadata": {
      "tags": []
     },
     "output_type": "execute_result"
    }
   ],
   "source": [
    "data = data.fillna(\"\")\n",
    "data.head()"
   ]
  },
  {
   "cell_type": "code",
   "execution_count": 0,
   "metadata": {
    "colab": {},
    "colab_type": "code",
    "id": "cULQZHH9DYX1"
   },
   "outputs": [],
   "source": [
    "age = list(np.sort(data.age.unique()))\n",
    "age_value = list(data.age.value_counts().sort_index())\n",
    "\n"
   ]
  },
  {
   "cell_type": "code",
   "execution_count": 0,
   "metadata": {
    "colab": {},
    "colab_type": "code",
    "id": "71tV8jXxMyVe"
   },
   "outputs": [],
   "source": [
    "age_bar = (\n",
    "        Bar()\n",
    "        .add_xaxis(age)\n",
    "        .add_yaxis(\"확진자 수(명)\", age_value, color=\"#BDBDBD\")\n",
    "        .set_global_opts(title_opts=opts.TitleOpts(title=\"격리병원\"))\n",
    "        .set_series_opts(label_opts=opts.LabelOpts(position=\"right\", color=[\"black\"]))\n",
    "        .reversal_axis()\n",
    ")\n"
   ]
  },
  {
   "cell_type": "code",
   "execution_count": 50,
   "metadata": {
    "colab": {
     "base_uri": "https://localhost:8080/",
     "height": 34
    },
    "colab_type": "code",
    "id": "GF2jFex7V1Uq",
    "outputId": "1653bfdb-81f5-42cc-ffd8-bece9204b51b"
   },
   "outputs": [
    {
     "data": {
      "text/plain": [
       "'/content/drive/My Drive/render.html'"
      ]
     },
     "execution_count": 50,
     "metadata": {
      "tags": []
     },
     "output_type": "execute_result"
    }
   ],
   "source": [
    "age_bar.render()"
   ]
  },
  {
   "cell_type": "code",
   "execution_count": 0,
   "metadata": {
    "colab": {},
    "colab_type": "code",
    "id": "0XfyM1iSWqlO"
   },
   "outputs": [],
   "source": [
    "\n",
    "age_bar.render_notebook()"
   ]
  }
 ],
 "metadata": {
  "colab": {
   "name": "age_plot.ipynb",
   "provenance": []
  },
  "kernelspec": {
   "display_name": "Python 3",
   "language": "python",
   "name": "python3"
  },
  "language_info": {
   "codemirror_mode": {
    "name": "ipython",
    "version": 3
   },
   "file_extension": ".py",
   "mimetype": "text/x-python",
   "name": "python",
   "nbconvert_exporter": "python",
   "pygments_lexer": "ipython3",
   "version": "3.7.1"
  }
 },
 "nbformat": 4,
 "nbformat_minor": 1
}
